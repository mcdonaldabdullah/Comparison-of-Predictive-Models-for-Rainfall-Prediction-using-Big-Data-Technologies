{
 "cells": [
  {
   "cell_type": "markdown",
   "metadata": {},
   "source": [
    "# Preprocessing"
   ]
  },
  {
   "cell_type": "code",
   "execution_count": 4,
   "metadata": {},
   "outputs": [],
   "source": [
    "from pathlib import Path\n",
    "import numpy as np\n",
    "import pandas as pd\n",
    "from keras.preprocessing import image\n",
    "import matplotlib.pyplot as plt\n",
    "from PIL import Image, ImageOps\n",
    "from skimage.util.shape import view_as_windows"
   ]
  },
  {
   "cell_type": "markdown",
   "metadata": {},
   "source": [
    "## Displaying a Sample Image"
   ]
  },
  {
   "cell_type": "code",
   "execution_count": 2,
   "metadata": {},
   "outputs": [
    {
     "name": "stderr",
     "output_type": "stream",
     "text": [
      "Clipping input data to the valid range for imshow with RGB data ([0..1] for floats or [0..255] for integers).\n"
     ]
    },
    {
     "name": "stdout",
     "output_type": "stream",
     "text": [
      "Image shape: (1000, 3600, 3)\n"
     ]
    },
    {
     "data": {
      "image/png": "[encoded data removed]",
      "text/plain": [
       "<Figure size 576x432 with 1 Axes>"
      ]
     },
     "metadata": {
      "needs_background": "light"
     },
     "output_type": "display_data"
    }
   ],
   "source": [
    "#this reads in an image from the dataset and then displays it\n",
    "correct_orientation_images_path = Path(r'D:\\BSc (Hons) Computer Sciences\\2020\\Big Data Engineering\\Group Project\\Preprocessing\\correct orientation')\n",
    "\n",
    "for img_path in correct_orientation_images_path.glob('*.png'):          \n",
    "    img = image.load_img(img_path)\n",
    "    img = image.img_to_array(img)\n",
    "    print(\"Image shape: {}\".format(img.shape))\n",
    "    break\n",
    "\n",
    "plt.figure(figsize=(8, 6))\n",
    "plt.imshow(img, cmap='gray')\n",
    "plt.show()"
   ]
  },
  {
   "cell_type": "markdown",
   "metadata": {},
   "source": [
    "## Cropping Images"
   ]
  },
  {
   "cell_type": "code",
   "execution_count": 3,
   "metadata": {},
   "outputs": [],
   "source": [
    "#this function crops the area of Bangladesh from the images in the dataset\n",
    "def crop_images(dataset_path, new_dataset_path):\n",
    "    for img_path in dataset_path.glob('*.png'):    \n",
    "        try:\n",
    "            img_name = str(img_path).split(\"\\\\\")[-1]\n",
    "            image = Image.open(img_path)\n",
    "            image2 = image.crop((2650, 175, 2770, 300))\n",
    "            image2 = image2.resize((40, 40))\n",
    "            image2.save(new_dataset_path / img_name)\n",
    "        except FileNotFoundError:\n",
    "            pass\n",
    "        \n",
    "#set the path where the cropped images should be stored\n",
    "cropped_images_path = Path(r'D:\\BSc (Hons) Computer Sciences\\2020\\Big Data Engineering\\Group Project\\Preprocessing\\bangladesh 2')\n",
    "#crop_images(correct_orientation_images_path, cropped_images_path)"
   ]
  },
  {
   "cell_type": "code",
   "execution_count": null,
   "metadata": {},
   "outputs": [],
   "source": [
    "#this takes the cropped images and separates them into training and testing images\n",
    "from keras.preprocessing import image\n",
    "\n",
    "train = []\n",
    "test = []\n",
    "counter = 0\n",
    "\n",
    "for img_path in cropped_images_path.glob('*.png'):\n",
    "    if counter < 100:\n",
    "        img = image.load_img(img_path, target_size=(40, 40), grayscale=True)\n",
    "        img = image.img_to_array(img)\n",
    "        img = np.array(img).reshape(40, 40)\n",
    "        train.append(img)\n",
    "    elif counter >= 150:\n",
    "        continue\n",
    "    else:\n",
    "        img = image.load_img(img_path, target_size=(40, 40), grayscale=True)\n",
    "        img = image.img_to_array(img)\n",
    "        img = np.array(img).reshape(40, 40)\n",
    "        test.append(img)\n",
    "    counter+=1"
   ]
  },
  {
   "cell_type": "code",
   "execution_count": null,
   "metadata": {},
   "outputs": [],
   "source": [
    "train = np.array(train)\n",
    "test = np.array(test)\n",
    "print(train.shape)\n",
    "print(test.shape)"
   ]
  },
  {
   "cell_type": "markdown",
   "metadata": {},
   "source": [
    "## Creating Sequences of Pixels "
   ]
  },
  {
   "cell_type": "code",
   "execution_count": null,
   "metadata": {},
   "outputs": [],
   "source": [
    "#this adds some weighting to the pixels values in a neighborhood around a specific pixel\n",
    "def pixel_weighting(L):\n",
    "    result=[]\n",
    "    for r in range(L.shape[0]):\n",
    "        for c in range(L.shape[1]):\n",
    "            array = np.array(L[r][c]).flatten()\n",
    "            pixel_of_interest_1 = array[4]\n",
    "            pixel_of_interest_2 = array[4]\n",
    "            for index in range(array.shape[0]):\n",
    "                if index==4:\n",
    "                    continue\n",
    "                elif array[index] > pixel_of_interest_1:\n",
    "                    pixel_of_interest_2 = pixel_of_interest_2 + array[index]*0.00\n",
    "                elif array[index] < pixel_of_interest_1:\n",
    "                    pixel_of_interest_2 = pixel_of_interest_2 - array[index]*0.00\n",
    "            if pixel_of_interest_2 < 0:\n",
    "                pixel_of_interest_2 = 0\n",
    "            result.append(pixel_of_interest_2)\n",
    "            \n",
    "    return np.array(result).reshape(L.shape[0], L.shape[1])\n",
    "\n",
    "#creates sequence of images\n",
    "def gettingSequence(X, sequence_length, months_ahead, neighborhood_size=(3, 3)):\n",
    "    \n",
    "    Y=[]\n",
    "    dataX = []\n",
    "    \n",
    "    for num in range(X.shape[0]-(sequence_length + months_ahead)+1):\n",
    "        sequence=[]\n",
    "        for i in range(sequence_length+months_ahead):\n",
    "            if (i < sequence_length):\n",
    "                #just taking the average of the neighborhood pixels in the meantime\n",
    "                A = np.pad(X[i+num], 1, mode='constant')\n",
    "                neighborhoods = view_as_windows(A, neighborhood_size)\n",
    "                \n",
    "                B = pixel_weighting(neighborhoods).flatten()\n",
    "                \n",
    "                \n",
    "                sequence.append(B)\n",
    "                \n",
    "            elif (i == (sequence_length+months_ahead-1)):\n",
    "                Y.append(X[i+num].flatten())\n",
    "                \n",
    "            if (i == sequence_length-1):        \n",
    "                dataX.append(sequence)\n",
    "                \n",
    "    return dataX, Y\n",
    "\n",
    "#this creates a sequence of pixels\n",
    "def create_training_dataset(X_seq, GT):\n",
    "    X1 = []\n",
    "    Y = []\n",
    "    for sample_no in range(X_seq.shape[0]):\n",
    "        x = X_seq[sample_no].T #T is just the transpose function on matrices\n",
    "        y = GT[sample_no]\n",
    "        for i in range(x.shape[0]):\n",
    "            X1.append(x[i])\n",
    "            Y.append(y[i])\n",
    "    return X1, np.array(Y).flatten()\n"
   ]
  },
  {
   "cell_type": "code",
   "execution_count": null,
   "metadata": {},
   "outputs": [],
   "source": [
    "def create_big_data_files(sequence_length, months_ahead):\n",
    "    #getting sequences and ground truth for those sequences using a specified sequence length and the number of months ahead\n",
    "    X_sequences_train, ground_truth_train = gettingSequence(train, sequence_length, months_ahead)\n",
    "    X_sequences_test, ground_truth_test = gettingSequence(test, sequence_length, months_ahead)\n",
    "    #converting to numpy arrays\n",
    "    X_sequences_train = np.array(X_sequences_train)\n",
    "    ground_truth_train = np.array(ground_truth_train)\n",
    "    X_sequences_test = np.array(X_sequences_test)\n",
    "    ground_truth_test = np.array(ground_truth_test)\n",
    "    \n",
    "    num_of_images = ground_truth_test.shape[0]\n",
    "    #here we create sequences of pixels\n",
    "    train_X, train_Y = create_training_dataset(X_sequences_train, ground_truth_train)\n",
    "    test_X, test_Y = create_training_dataset(X_sequences_test, ground_truth_test)\n",
    "    #converting to numpy arrays\n",
    "    train_X = np.array(train_X)\n",
    "    train_Y = np.array(train_Y)\n",
    "    test_X = np.array(test_X)\n",
    "    test_Y = np.array(test_Y)\n",
    "    \n",
    "    #all these statements does is that it creates a pandas dataframe using the sequence of pixels we created above\n",
    "    if sequence_length == 4:\n",
    "        train_df = pd.DataFrame(train_X, columns=[\"M1\", \"M2\", \"M3\", \"M4\"])\n",
    "        test_df = pd.DataFrame(test_X, columns=[\"M1\", \"M2\", \"M3\", \"M4\"])\n",
    "    elif sequence_length == 8:\n",
    "        train_df = pd.DataFrame(train_X, columns=[\"M1\", \"M2\", \"M3\", \"M4\", \"M5\", \"M6\", \"M7\", \"M8\"])\n",
    "        test_df = pd.DataFrame(test_X, columns=[\"M1\", \"M2\", \"M3\", \"M4\", \"M5\", \"M6\", \"M7\", \"M8\"])\n",
    "\n",
    "    elif sequence_length == 12:\n",
    "        train_df = pd.DataFrame(train_X, columns=[\"M1\", \"M2\", \"M3\", \"M4\", \"M5\", \"M6\", \"M7\", \"M8\", \"M9\", \"M10\", \"M11\", \"M12\"])\n",
    "        test_df = pd.DataFrame(test_X, columns=[\"M1\", \"M2\", \"M3\", \"M4\", \"M5\", \"M6\", \"M7\", \"M8\", \"M9\", \"M10\", \"M11\", \"M12\"])\n",
    "\n",
    "    train_df['GT'] = train_Y\n",
    "    test_df['GT'] = test_Y\n",
    "    #setting the name of the files \n",
    "    train_file_name = r\"Preprocessed Data\\train_sequence_length_\"+str(sequence_length)+\"_month_ahead_\"+str(months_ahead)+\".txt\"\n",
    "    test_file_name = r\"Preprocessed Data\\test_sequence_length_\"+str(sequence_length)+\"_month_ahead_\"+str(months_ahead)+\".txt\"\n",
    "    #storing the pandas dataframes which hold the sequence of pixels to a text file which will then be stored in Hadoop HDFS\n",
    "    train_df.to_csv(train_file_name)\n",
    "    test_df.to_csv(test_file_name)"
   ]
  },
  {
   "cell_type": "code",
   "execution_count": null,
   "metadata": {
    "scrolled": true
   },
   "outputs": [],
   "source": [
    "#creating the files used to the 1 month ahead predictions\n",
    "create_big_data_files(4, 1)\n",
    "create_big_data_files(8, 1)\n",
    "create_big_data_files(12, 1)"
   ]
  },
  {
   "cell_type": "code",
   "execution_count": null,
   "metadata": {},
   "outputs": [],
   "source": [
    "#creating the files used to the 2 months ahead predictions\n",
    "create_big_data_files(4, 2)\n",
    "create_big_data_files(8, 2)\n",
    "create_big_data_files(12, 2)"
   ]
  },
  {
   "cell_type": "code",
   "execution_count": null,
   "metadata": {},
   "outputs": [],
   "source": [
    "#creating the files used to the 3 months ahead predictions\n",
    "create_big_data_files(4, 3)\n",
    "create_big_data_files(8, 3)\n",
    "create_big_data_files(12, 3)"
   ]
  },
  {
   "cell_type": "markdown",
   "metadata": {},
   "source": [
    "## Creating Flatten Image Dataset"
   ]
  },
  {
   "cell_type": "code",
   "execution_count": null,
   "metadata": {},
   "outputs": [],
   "source": [
    "#here we read in the cropped images again so that we can flatten each image. \n",
    "#These flattened images will be used to do some analysis using Spark\n",
    "from keras.preprocessing import image\n",
    "\n",
    "images_path = Path(r'D:\\BSc (Hons) Computer Sciences\\2020\\Big Data Engineering\\Group Project\\Preprocessing\\Bangladesh')\n",
    "\n",
    "images = []\n",
    "counter = 0\n",
    "\n",
    "for img_path in images_path.glob('*.png'):\n",
    "    img = image.load_img(img_path, target_size=(40, 40), grayscale=True)\n",
    "    img = image.img_to_array(img)\n",
    "    img = np.array(img).reshape(40, 40)\n",
    "    images.append(img)\n",
    "\n",
    "#images array\n",
    "images = np.array(images)"
   ]
  },
  {
   "cell_type": "code",
   "execution_count": null,
   "metadata": {},
   "outputs": [],
   "source": [
    "#this flattens each image array\n",
    "def flatten_images(array):\n",
    "    result = []\n",
    "    for i in range(array.shape[0]):\n",
    "        result.append(list(array[i].flatten()))\n",
    "    return np.array(result)\n",
    "\n",
    "\n",
    "images_flatten = flatten_images(images)\n",
    "#convert flattened image array to pandas dataframe so that we can store it in a text file\n",
    "images_df = pd.DataFrame(images_flatten)\n",
    "#storing the pandas dataframe in a text file\n",
    "images_df.to_csv(r'Preprocessed Data\\images_flatten.txt', sep=',', encoding='utf-8', header=None)"
   ]
  },
  {
   "cell_type": "code",
   "execution_count": null,
   "metadata": {},
   "outputs": [],
   "source": []
  }
 ],
 "metadata": {
  "kernelspec": {
   "display_name": "Python 3",
   "language": "python",
   "name": "python3"
  },
  "language_info": {
   "codemirror_mode": {
    "name": "ipython",
    "version": 3
   },
   "file_extension": ".py",
   "mimetype": "text/x-python",
   "name": "python",
   "nbconvert_exporter": "python",
   "pygments_lexer": "ipython3",
   "version": "3.7.6"
  }
 },
 "nbformat": 4,
 "nbformat_minor": 4
}
